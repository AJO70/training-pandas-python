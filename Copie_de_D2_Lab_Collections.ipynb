{
  "nbformat": 4,
  "nbformat_minor": 0,
  "metadata": {
    "colab": {
      "name": "Copie de D2. Lab Collections.ipynb",
      "version": "0.3.2",
      "provenance": [],
      "collapsed_sections": [],
      "include_colab_link": true
    },
    "kernelspec": {
      "display_name": "Python 3",
      "language": "python",
      "name": "python3"
    }
  },
  "cells": [
    {
      "cell_type": "markdown",
      "metadata": {
        "id": "view-in-github",
        "colab_type": "text"
      },
      "source": [
        "<a href=\"https://colab.research.google.com/github/AJO70/training-pandas-python/blob/master/Copie_de_D2_Lab_Collections.ipynb\" target=\"_parent\"><img src=\"https://colab.research.google.com/assets/colab-badge.svg\" alt=\"Open In Colab\"/></a>"
      ]
    },
    {
      "metadata": {
        "id": "aqlYwZ5CtRng",
        "colab_type": "text"
      },
      "cell_type": "markdown",
      "source": [
        "## Let's check our knowledge of different collections. \n",
        "\n",
        "From yesterday we know about 4 possible collection types:\n",
        "- lists\n",
        "- sets\n",
        "- tuples\n",
        "- dictionaries\n",
        "\n",
        "They are defined differently, but can be transformed from one type into another. \n",
        "\n",
        "Now run the code below, so you have variables for the following analysis"
      ]
    },
    {
      "metadata": {
        "id": "h1sc9nHxtRnh",
        "colab_type": "code",
        "colab": {}
      },
      "cell_type": "code",
      "source": [
        "chocolates = ('dark', 'milk', 'semi sweet')\n",
        "brands = ['Valor', 'Nestle', 'Lindt']"
      ],
      "execution_count": 0,
      "outputs": []
    },
    {
      "metadata": {
        "id": "Fp-fCPuGtRnp",
        "colab_type": "text"
      },
      "cell_type": "markdown",
      "source": [
        "Now try to obtain the **dark** from the **chocolates** tuple."
      ]
    },
    {
      "metadata": {
        "id": "hc0FL6wMtRnr",
        "colab_type": "code",
        "colab": {
          "base_uri": "https://localhost:8080/",
          "height": 34
        },
        "outputId": "f66399f7-abd8-49fa-d996-d801f87348b2"
      },
      "cell_type": "code",
      "source": [
        "chocolates[0]"
      ],
      "execution_count": 61,
      "outputs": [
        {
          "output_type": "execute_result",
          "data": {
            "text/plain": [
              "'dark'"
            ]
          },
          "metadata": {
            "tags": []
          },
          "execution_count": 61
        }
      ]
    },
    {
      "metadata": {
        "id": "FBpBzZz5tRn1",
        "colab_type": "text"
      },
      "cell_type": "markdown",
      "source": [
        "Remember, that tuples are unchangeable. In order to confirm it, run the code below. You will receive an error."
      ]
    },
    {
      "metadata": {
        "id": "m-wwdMi1tRn2",
        "colab_type": "code",
        "colab": {
          "base_uri": "https://localhost:8080/",
          "height": 164
        },
        "outputId": "121c900c-7809-4e77-ea41-15c2ed98de46"
      },
      "cell_type": "code",
      "source": [
        "chocolates[1] = 'caramel filled'"
      ],
      "execution_count": 62,
      "outputs": [
        {
          "output_type": "error",
          "ename": "TypeError",
          "evalue": "ignored",
          "traceback": [
            "\u001b[0;31m---------------------------------------------------------------------------\u001b[0m",
            "\u001b[0;31mTypeError\u001b[0m                                 Traceback (most recent call last)",
            "\u001b[0;32m<ipython-input-62-770880d0ea80>\u001b[0m in \u001b[0;36m<module>\u001b[0;34m()\u001b[0m\n\u001b[0;32m----> 1\u001b[0;31m \u001b[0mchocolates\u001b[0m\u001b[0;34m[\u001b[0m\u001b[0;36m1\u001b[0m\u001b[0;34m]\u001b[0m \u001b[0;34m=\u001b[0m \u001b[0;34m'caramel filled'\u001b[0m\u001b[0;34m\u001b[0m\u001b[0;34m\u001b[0m\u001b[0m\n\u001b[0m",
            "\u001b[0;31mTypeError\u001b[0m: 'tuple' object does not support item assignment"
          ]
        }
      ]
    },
    {
      "metadata": {
        "id": "yLuYAcaPtRn4",
        "colab_type": "text"
      },
      "cell_type": "markdown",
      "source": [
        "Now transform the tuple into list. Try to guess which function could be used for it. "
      ]
    },
    {
      "metadata": {
        "id": "BxKksKZ2tRn5",
        "colab_type": "code",
        "colab": {
          "base_uri": "https://localhost:8080/",
          "height": 34
        },
        "outputId": "f9c03483-f3a1-4460-de71-3fd9da9d88e5"
      },
      "cell_type": "code",
      "source": [
        "lst=list(chocolates)\n",
        "lst[2]='caramel filled'\n",
        "tuple(lst)"
      ],
      "execution_count": 65,
      "outputs": [
        {
          "output_type": "execute_result",
          "data": {
            "text/plain": [
              "('dark', 'milk', 'caramel filled')"
            ]
          },
          "metadata": {
            "tags": []
          },
          "execution_count": 65
        }
      ]
    },
    {
      "metadata": {
        "id": "EbETY42DtRn7",
        "colab_type": "text"
      },
      "cell_type": "markdown",
      "source": [
        "Create a dictionary of Chocolates and Brands:"
      ]
    },
    {
      "metadata": {
        "id": "mSlOowWAtRn8",
        "colab_type": "code",
        "colab": {}
      },
      "cell_type": "code",
      "source": [
        "chocs_and_brands = {'dark': 'Valor', 'milk': 'Nestle', 'semi sweet': 'Lindt'}"
      ],
      "execution_count": 0,
      "outputs": []
    },
    {
      "metadata": {
        "id": "KTiH14bNtRn_",
        "colab_type": "text"
      },
      "cell_type": "markdown",
      "source": [
        "Obtain the brand of semi sweet chocolate"
      ]
    },
    {
      "metadata": {
        "id": "c4xzIchbtRoA",
        "colab_type": "code",
        "colab": {
          "base_uri": "https://localhost:8080/",
          "height": 34
        },
        "outputId": "01826d0e-106c-4f0a-c636-d34c17d052ee"
      },
      "cell_type": "code",
      "source": [
        "chocs_and_brands[\"semi sweet\"] # equivalent to chocs_and_brands.get(\"semi sweet\") "
      ],
      "execution_count": 68,
      "outputs": [
        {
          "output_type": "execute_result",
          "data": {
            "text/plain": [
              "'Lindt'"
            ]
          },
          "metadata": {
            "tags": []
          },
          "execution_count": 68
        }
      ]
    },
    {
      "metadata": {
        "id": "VoSz4pfLtRoD",
        "colab_type": "text"
      },
      "cell_type": "markdown",
      "source": [
        "Remember, that you can also obtain all the keys and values of dictionary. Print keys and values"
      ]
    },
    {
      "metadata": {
        "id": "GZCzXsV9tRoE",
        "colab_type": "code",
        "colab": {
          "base_uri": "https://localhost:8080/",
          "height": 34
        },
        "outputId": "130e6950-7472-443f-d9ee-7e89563a0ed9"
      },
      "cell_type": "code",
      "source": [
        "chocs_and_brands.keys()\n",
        "chocs_and_brands.values()"
      ],
      "execution_count": 72,
      "outputs": [
        {
          "output_type": "execute_result",
          "data": {
            "text/plain": [
              "dict_values(['Nestle', 'Lindt'])"
            ]
          },
          "metadata": {
            "tags": []
          },
          "execution_count": 72
        }
      ]
    },
    {
      "metadata": {
        "id": "rwgXWXgetRoQ",
        "colab_type": "text"
      },
      "cell_type": "markdown",
      "source": [
        "You can delete the key from dictionary using ***del*** function. Try it now!"
      ]
    },
    {
      "metadata": {
        "id": "1tunlhv3tRoR",
        "colab_type": "code",
        "colab": {
          "base_uri": "https://localhost:8080/",
          "height": 181
        },
        "outputId": "c3f1acce-120e-4016-e265-af12c20c67b8"
      },
      "cell_type": "code",
      "source": [
        "del chocs_and_brands['dark']\n",
        "print(chocs_and_brands)"
      ],
      "execution_count": 74,
      "outputs": [
        {
          "output_type": "error",
          "ename": "KeyError",
          "evalue": "ignored",
          "traceback": [
            "\u001b[0;31m---------------------------------------------------------------------------\u001b[0m",
            "\u001b[0;31mKeyError\u001b[0m                                  Traceback (most recent call last)",
            "\u001b[0;32m<ipython-input-74-c8793dcf9d24>\u001b[0m in \u001b[0;36m<module>\u001b[0;34m()\u001b[0m\n\u001b[0;32m----> 1\u001b[0;31m \u001b[0;32mdel\u001b[0m \u001b[0mchocs_and_brands\u001b[0m\u001b[0;34m[\u001b[0m\u001b[0;34m'dark'\u001b[0m\u001b[0;34m]\u001b[0m\u001b[0;34m\u001b[0m\u001b[0;34m\u001b[0m\u001b[0m\n\u001b[0m\u001b[1;32m      2\u001b[0m \u001b[0mprint\u001b[0m\u001b[0;34m(\u001b[0m\u001b[0mchocs_and_brands\u001b[0m\u001b[0;34m)\u001b[0m\u001b[0;34m\u001b[0m\u001b[0;34m\u001b[0m\u001b[0m\n",
            "\u001b[0;31mKeyError\u001b[0m: 'dark'"
          ]
        }
      ]
    },
    {
      "metadata": {
        "id": "_x-C_dJItRoh",
        "colab_type": "text"
      },
      "cell_type": "markdown",
      "source": [
        "Now let's add the dark chocolate back:"
      ]
    },
    {
      "metadata": {
        "id": "iwFoXyfZtRoh",
        "colab_type": "code",
        "colab": {}
      },
      "cell_type": "code",
      "source": [
        "chocs_and_brands['dark'] = 'Netle'"
      ],
      "execution_count": 0,
      "outputs": []
    },
    {
      "metadata": {
        "id": "Iqo7CnuutRol",
        "colab_type": "text"
      },
      "cell_type": "markdown",
      "source": [
        "Using loop present the output in the format '*chocolade type*', '*brand*'"
      ]
    },
    {
      "metadata": {
        "id": "t3UK5YpztRom",
        "colab_type": "code",
        "colab": {
          "base_uri": "https://localhost:8080/",
          "height": 68
        },
        "outputId": "226802f8-87dc-40c9-a489-9cc82f40d087"
      },
      "cell_type": "code",
      "source": [
        "for choc_type, brand in chocs_and_brands.items():\n",
        "  print(choc_type,brand)"
      ],
      "execution_count": 76,
      "outputs": [
        {
          "output_type": "stream",
          "text": [
            "milk Nestle\n",
            "semi sweet Lindt\n",
            "dark Netle\n"
          ],
          "name": "stdout"
        }
      ]
    },
    {
      "metadata": {
        "id": "xTAW5b62tRoq",
        "colab_type": "text"
      },
      "cell_type": "markdown",
      "source": [
        "Using loop present the output in the format *The best brand for {choc_type} is {brand}*"
      ]
    },
    {
      "metadata": {
        "id": "udUnhF4NtRoq",
        "colab_type": "code",
        "colab": {
          "base_uri": "https://localhost:8080/",
          "height": 119
        },
        "outputId": "27760553-8e54-46d3-e34e-4202dd64a5d0"
      },
      "cell_type": "code",
      "source": [
        "for choc_type, brand in chocs_and_brands.items():\n",
        "  print('The best brand for',choc_type,'is',brand,'.')\n",
        "  print(f'The best brand for {choc_type} is {brand}.')"
      ],
      "execution_count": 83,
      "outputs": [
        {
          "output_type": "stream",
          "text": [
            "The best brand for milk is Nestle .\n",
            "The best brand for milk is Nestle.\n",
            "The best brand for semi sweet is Lindt .\n",
            "The best brand for semi sweet is Lindt.\n",
            "The best brand for dark is Netle .\n",
            "The best brand for dark is Netle.\n"
          ],
          "name": "stdout"
        }
      ]
    },
    {
      "metadata": {
        "id": "AXgQl6bktRot",
        "colab_type": "text"
      },
      "cell_type": "markdown",
      "source": [
        "## Lists Great Task\n",
        "\n",
        "The Fibonacci Sequence is the series of numbers:\n",
        "\n",
        "$$0, 1, 1, 2, 3, 5, 8, 13, 21, 34, ...$$\n",
        "\n",
        "> The next number is found by adding up the two numbers before it.\n",
        "> \n",
        "> The 2 is found by adding the two numbers before it ($1+1$). The 3 is found by adding the two numbers before it ($1+2$),\n",
        ">\n",
        "> And the $5$ is ($2+3$), and so on!\n",
        "\n",
        "\n",
        "**The Rule**\n",
        "\n",
        "The Fibonacci Sequence can be written as a \"Rule\".\n",
        "\n",
        "First, the terms are numbered from 0 onwards like this:\n",
        "\n",
        "\n",
        "$$\n",
        "n =\t[0,1,2,3,4,5,6,7,8,9,10,11,12,13,14,...]\n",
        "$$\n",
        "$$\n",
        "x_n =\t[0,1,1,2,3,5,8,13,21,34,55,89,144,233,377,...]\n",
        "$$\n",
        "\n",
        "So term number $6$ is called $x_6$ (which equals $8$).\n",
        "\n",
        "Example: the $8_{th}$ term is \n",
        "the $7_{th}$ term plus the $6_{th}$ term:\n",
        "\n",
        "\n",
        "$$x_8 = x_7 + x_6$$\n",
        "\n",
        "So we can write the rule:\n",
        " $$x_n = x_{n-1} + x_{n-2}$$\n",
        "\n",
        "where:\n",
        "\n",
        "$x_n$ is term number $n$\n",
        "\n",
        "$x_{n-1}$ is the previous term $(n-1)$\n",
        "\n",
        "$x_{n-2}$ is the term before that $(n-2)$\n",
        "\n",
        "***Task:***\n",
        "Define a list **fib** containing the first 2 elements of Fibonacci sequence (0,1). Then calculate values up to the  100th  element of Fibonacci sequence."
      ]
    },
    {
      "metadata": {
        "id": "-4JeSy4ptRou",
        "colab_type": "code",
        "colab": {
          "base_uri": "https://localhost:8080/",
          "height": 54
        },
        "outputId": "ca064cb8-5a05-478f-e55e-86084d120922"
      },
      "cell_type": "code",
      "source": [
        "fib=[1,2]\n",
        "while len(fib) < 101:\n",
        "  fib.append(fib[-1]+fib[-2])\n",
        "print(fib)"
      ],
      "execution_count": 86,
      "outputs": [
        {
          "output_type": "stream",
          "text": [
            "[1, 2, 3, 5, 8, 13, 21, 34, 55, 89, 144, 233, 377, 610, 987, 1597, 2584, 4181, 6765, 10946, 17711, 28657, 46368, 75025, 121393, 196418, 317811, 514229, 832040, 1346269, 2178309, 3524578, 5702887, 9227465, 14930352, 24157817, 39088169, 63245986, 102334155, 165580141, 267914296, 433494437, 701408733, 1134903170, 1836311903, 2971215073, 4807526976, 7778742049, 12586269025, 20365011074, 32951280099, 53316291173, 86267571272, 139583862445, 225851433717, 365435296162, 591286729879, 956722026041, 1548008755920, 2504730781961, 4052739537881, 6557470319842, 10610209857723, 17167680177565, 27777890035288, 44945570212853, 72723460248141, 117669030460994, 190392490709135, 308061521170129, 498454011879264, 806515533049393, 1304969544928657, 2111485077978050, 3416454622906707, 5527939700884757, 8944394323791464, 14472334024676221, 23416728348467685, 37889062373143906, 61305790721611591, 99194853094755497, 160500643816367088, 259695496911122585, 420196140727489673, 679891637638612258, 1100087778366101931, 1779979416004714189, 2880067194370816120, 4660046610375530309, 7540113804746346429, 12200160415121876738, 19740274219868223167, 31940434634990099905, 51680708854858323072, 83621143489848422977, 135301852344706746049, 218922995834555169026, 354224848179261915075, 573147844013817084101, 927372692193078999176]\n"
          ],
          "name": "stdout"
        }
      ]
    },
    {
      "metadata": {
        "id": "n7UYAXvZVDtl",
        "colab_type": "code",
        "colab": {
          "base_uri": "https://localhost:8080/",
          "height": 71
        },
        "outputId": "91a2719f-6407-4f98-d83b-eb4d1e01effc"
      },
      "cell_type": "code",
      "source": [
        "fib1=[0,1]\n",
        "while len(fib1)<100:\n",
        "  i=len(fib1)\n",
        "  fib1.append(fib1[i-1]+fib1[i-2])\n",
        "print(fib1)\n",
        "len(fib1)"
      ],
      "execution_count": 92,
      "outputs": [
        {
          "output_type": "stream",
          "text": [
            "[0, 1, 1, 2, 3, 5, 8, 13, 21, 34, 55, 89, 144, 233, 377, 610, 987, 1597, 2584, 4181, 6765, 10946, 17711, 28657, 46368, 75025, 121393, 196418, 317811, 514229, 832040, 1346269, 2178309, 3524578, 5702887, 9227465, 14930352, 24157817, 39088169, 63245986, 102334155, 165580141, 267914296, 433494437, 701408733, 1134903170, 1836311903, 2971215073, 4807526976, 7778742049, 12586269025, 20365011074, 32951280099, 53316291173, 86267571272, 139583862445, 225851433717, 365435296162, 591286729879, 956722026041, 1548008755920, 2504730781961, 4052739537881, 6557470319842, 10610209857723, 17167680177565, 27777890035288, 44945570212853, 72723460248141, 117669030460994, 190392490709135, 308061521170129, 498454011879264, 806515533049393, 1304969544928657, 2111485077978050, 3416454622906707, 5527939700884757, 8944394323791464, 14472334024676221, 23416728348467685, 37889062373143906, 61305790721611591, 99194853094755497, 160500643816367088, 259695496911122585, 420196140727489673, 679891637638612258, 1100087778366101931, 1779979416004714189, 2880067194370816120, 4660046610375530309, 7540113804746346429, 12200160415121876738, 19740274219868223167, 31940434634990099905, 51680708854858323072, 83621143489848422977, 135301852344706746049, 218922995834555169026]\n"
          ],
          "name": "stdout"
        },
        {
          "output_type": "execute_result",
          "data": {
            "text/plain": [
              "100"
            ]
          },
          "metadata": {
            "tags": []
          },
          "execution_count": 92
        }
      ]
    },
    {
      "metadata": {
        "id": "m4ZiaiySVUE7",
        "colab_type": "code",
        "colab": {
          "base_uri": "https://localhost:8080/",
          "height": 71
        },
        "outputId": "3f0f7ddb-ab2a-428c-e5e1-9e0b38ce3c7a"
      },
      "cell_type": "code",
      "source": [
        "fib2=[0,1]\n",
        "for i in range(2,100):\n",
        "  i=len(fib1)\n",
        "  fib2.append(fib2[-1]+fib2[-2])\n",
        "print(fib2)\n",
        "len(fib2)"
      ],
      "execution_count": 90,
      "outputs": [
        {
          "output_type": "stream",
          "text": [
            "[0, 1, 1, 2, 3, 5, 8, 13, 21, 34, 55, 89, 144, 233, 377, 610, 987, 1597, 2584, 4181, 6765, 10946, 17711, 28657, 46368, 75025, 121393, 196418, 317811, 514229, 832040, 1346269, 2178309, 3524578, 5702887, 9227465, 14930352, 24157817, 39088169, 63245986, 102334155, 165580141, 267914296, 433494437, 701408733, 1134903170, 1836311903, 2971215073, 4807526976, 7778742049, 12586269025, 20365011074, 32951280099, 53316291173, 86267571272, 139583862445, 225851433717, 365435296162, 591286729879, 956722026041, 1548008755920, 2504730781961, 4052739537881, 6557470319842, 10610209857723, 17167680177565, 27777890035288, 44945570212853, 72723460248141, 117669030460994, 190392490709135, 308061521170129, 498454011879264, 806515533049393, 1304969544928657, 2111485077978050, 3416454622906707, 5527939700884757, 8944394323791464, 14472334024676221, 23416728348467685, 37889062373143906, 61305790721611591, 99194853094755497, 160500643816367088, 259695496911122585, 420196140727489673, 679891637638612258, 1100087778366101931, 1779979416004714189, 2880067194370816120, 4660046610375530309, 7540113804746346429, 12200160415121876738, 19740274219868223167, 31940434634990099905, 51680708854858323072, 83621143489848422977, 135301852344706746049, 218922995834555169026]\n"
          ],
          "name": "stdout"
        },
        {
          "output_type": "execute_result",
          "data": {
            "text/plain": [
              "100"
            ]
          },
          "metadata": {
            "tags": []
          },
          "execution_count": 90
        }
      ]
    },
    {
      "metadata": {
        "id": "v2eSVxmJWAGu",
        "colab_type": "code",
        "colab": {
          "base_uri": "https://localhost:8080/",
          "height": 71
        },
        "outputId": "b555e0a4-2b6d-40f1-f8b4-da9c27259e87"
      },
      "cell_type": "code",
      "source": [
        "fib2=[0,1]\n",
        "for i in range(2,100):\n",
        "  fib2.append(fib2[i-1]+fib2[i-2])\n",
        "print(fib2)\n",
        "len(fib2)"
      ],
      "execution_count": 93,
      "outputs": [
        {
          "output_type": "stream",
          "text": [
            "[0, 1, 1, 2, 3, 5, 8, 13, 21, 34, 55, 89, 144, 233, 377, 610, 987, 1597, 2584, 4181, 6765, 10946, 17711, 28657, 46368, 75025, 121393, 196418, 317811, 514229, 832040, 1346269, 2178309, 3524578, 5702887, 9227465, 14930352, 24157817, 39088169, 63245986, 102334155, 165580141, 267914296, 433494437, 701408733, 1134903170, 1836311903, 2971215073, 4807526976, 7778742049, 12586269025, 20365011074, 32951280099, 53316291173, 86267571272, 139583862445, 225851433717, 365435296162, 591286729879, 956722026041, 1548008755920, 2504730781961, 4052739537881, 6557470319842, 10610209857723, 17167680177565, 27777890035288, 44945570212853, 72723460248141, 117669030460994, 190392490709135, 308061521170129, 498454011879264, 806515533049393, 1304969544928657, 2111485077978050, 3416454622906707, 5527939700884757, 8944394323791464, 14472334024676221, 23416728348467685, 37889062373143906, 61305790721611591, 99194853094755497, 160500643816367088, 259695496911122585, 420196140727489673, 679891637638612258, 1100087778366101931, 1779979416004714189, 2880067194370816120, 4660046610375530309, 7540113804746346429, 12200160415121876738, 19740274219868223167, 31940434634990099905, 51680708854858323072, 83621143489848422977, 135301852344706746049, 218922995834555169026]\n"
          ],
          "name": "stdout"
        },
        {
          "output_type": "execute_result",
          "data": {
            "text/plain": [
              "100"
            ]
          },
          "metadata": {
            "tags": []
          },
          "execution_count": 93
        }
      ]
    },
    {
      "metadata": {
        "id": "fZLPJd1ctRow",
        "colab_type": "text"
      },
      "cell_type": "markdown",
      "source": [
        "Remember about built in functions of Python. Forget about them for a while. Calculate the mean and the median of the list **fib**."
      ]
    },
    {
      "metadata": {
        "id": "1ujUco7htRoz",
        "colab_type": "code",
        "colab": {
          "base_uri": "https://localhost:8080/",
          "height": 68
        },
        "outputId": "60cf57b8-84cb-416a-8459-3e881b76396e"
      },
      "cell_type": "code",
      "source": [
        "s=0\n",
        "for i in fib2:\n",
        "  s+=i\n",
        "mean1 = s/len(fib2)\n",
        "print(mean1)\n",
        "mean2 = s/100\n",
        "print(mean2)\n",
        "\n",
        "median=(fib2[49]+fib2[50])/2\n",
        "print(median)"
      ],
      "execution_count": 100,
      "outputs": [
        {
          "output_type": "stream",
          "text": [
            "5.73147844013817e+18\n",
            "5.73147844013817e+18\n",
            "10182505537.0\n"
          ],
          "name": "stdout"
        }
      ]
    },
    {
      "metadata": {
        "id": "y3_NRcmUtRo8",
        "colab_type": "text"
      },
      "cell_type": "markdown",
      "source": [
        "And now in order to see that programming in Python is fun, calculate the mean and the median using built-in functions."
      ]
    },
    {
      "metadata": {
        "id": "PaMjDPVttRpC",
        "colab_type": "code",
        "colab": {
          "base_uri": "https://localhost:8080/",
          "height": 34
        },
        "outputId": "95d156ed-980d-42f4-bacc-75e4912ff558"
      },
      "cell_type": "code",
      "source": [
        "sum(fib2)/100\n",
        "(fib2[49]+fib2[50])/2"
      ],
      "execution_count": 104,
      "outputs": [
        {
          "output_type": "execute_result",
          "data": {
            "text/plain": [
              "10182505537.0"
            ]
          },
          "metadata": {
            "tags": []
          },
          "execution_count": 104
        }
      ]
    }
  ]
}